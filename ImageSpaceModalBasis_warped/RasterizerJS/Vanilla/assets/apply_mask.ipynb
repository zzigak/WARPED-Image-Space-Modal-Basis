{
 "cells": [
  {
   "cell_type": "code",
   "execution_count": 2,
   "metadata": {},
   "outputs": [],
   "source": [
    "from PIL import Image\n",
    "import numpy as np"
   ]
  },
  {
   "cell_type": "code",
   "execution_count": 11,
   "metadata": {},
   "outputs": [
    {
     "name": "stdout",
     "output_type": "stream",
     "text": [
      "255 0\n",
      "255 0\n",
      "(720, 405, 4)\n",
      "255 0\n",
      "255 94\n",
      "(720, 405, 4)\n",
      "255 0\n",
      "237 55\n",
      "(720, 405, 4)\n",
      "255 0\n",
      "178 121\n",
      "(720, 405, 4)\n",
      "255 0\n",
      "182 115\n",
      "(720, 405, 4)\n",
      "255 0\n",
      "180 96\n",
      "(720, 405, 4)\n",
      "255 0\n",
      "186 99\n",
      "(720, 405, 4)\n",
      "255 0\n",
      "181 102\n",
      "(720, 405, 4)\n",
      "255 0\n",
      "178 128\n",
      "(720, 405, 4)\n",
      "255 0\n",
      "178 128\n",
      "(720, 405, 4)\n"
     ]
    }
   ],
   "source": [
    "\n",
    "def apply_mask(image_path, mask_path, output_path):\n",
    "    image = Image.open(image_path)\n",
    "    mask = Image.open(mask_path)\n",
    "\n",
    "    image = np.array(image)\n",
    "    mask = np.array(mask)\n",
    "    # max min elements\n",
    "    print(mask.max(), mask.min())\n",
    "    print(image.max(), image.min())\n",
    "\n",
    "    # mask = mask[:, :, 3]\n",
    "\n",
    "    # normalize both to 0, 1\n",
    "    mask = mask / 255\n",
    "    image = image / 255\n",
    "\n",
    "    # covert to 1 layer mask then copy mask layer into 4 channel\n",
    "    mask = mask[:, :, 0]\n",
    "    mask = np.stack([mask, mask, mask, mask], axis=2)\n",
    "    print(mask.shape)\n",
    "    # apply mask\n",
    "    masked_image = image * mask\n",
    "\n",
    "    # save normalized between 0 and 1\n",
    "    masked_image = (masked_image * 255).astype(np.uint8)\n",
    "\n",
    "    masked_image = Image.fromarray(masked_image)\n",
    "    masked_image.save(output_path)\n",
    "\n",
    "\n",
    "\n",
    "mask_path = \"./wireman/mask1.png\"\n",
    "for i in range(10):\n",
    "    image_path = f\"./wireman/wireman_modes_aug30/mode{i}_aug30_wireman.png\"\n",
    "    output_path = f\"./wireman/wireman_modes_aug30/mode{i}_aug30_wireman_masked.png\"\n",
    "    apply_mask(image_path, mask_path, output_path)"
   ]
  },
  {
   "cell_type": "code",
   "execution_count": null,
   "metadata": {},
   "outputs": [],
   "source": []
  }
 ],
 "metadata": {
  "kernelspec": {
   "display_name": "base",
   "language": "python",
   "name": "python3"
  },
  "language_info": {
   "codemirror_mode": {
    "name": "ipython",
    "version": 3
   },
   "file_extension": ".py",
   "mimetype": "text/x-python",
   "name": "python",
   "nbconvert_exporter": "python",
   "pygments_lexer": "ipython3",
   "version": "3.12.2"
  }
 },
 "nbformat": 4,
 "nbformat_minor": 2
}
